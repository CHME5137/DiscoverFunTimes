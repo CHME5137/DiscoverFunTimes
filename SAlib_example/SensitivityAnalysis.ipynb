{
 "cells": [
  {
   "cell_type": "markdown",
   "metadata": {
    "slideshow": {
     "slide_type": "slide"
    }
   },
   "source": [
    "# Using Sensitivity Analysis to Interrogate Models\n",
    "\n",
    "Original notebook: Will Usher, UCL Energy Institute, 10th December 2015 <br/>\n",
    "Updates to demonstrate running array jobs on a cluster: Richard West, 2016\n",
    "\n",
    "In this version, most of the background and detail have been removed. Please refer to the original at https://github.com/SALib/SATut if you are not familiar with the system."
   ]
  },
  {
   "cell_type": "code",
   "execution_count": 1,
   "metadata": {
    "collapsed": false,
    "slideshow": {
     "slide_type": "skip"
    }
   },
   "outputs": [],
   "source": [
    "from ipywidgets import widgets, interact\n",
    "from IPython.display import display\n",
    "%matplotlib inline\n",
    "import seaborn as sbn\n",
    "import matplotlib.pyplot as plt\n",
    "import numpy as np\n",
    "from IPython.core.pylabtools import figsize\n",
    "figsize(12, 10)\n",
    "sbn.set_context(\"talk\", font_scale=1)\n",
    "\n",
    "# The model used for this seminar is contained in the file model.py\n",
    "from model import cost_of_vehicle_to_grid, compute_profit, annualized_capital_cost, battery_lifetime, max_vehicle_power"
   ]
  },
  {
   "cell_type": "code",
   "execution_count": 2,
   "metadata": {
    "collapsed": true,
    "slideshow": {
     "slide_type": "skip"
    }
   },
   "outputs": [],
   "source": [
    "# Uncomment and execute the following line to see the contents of the `model.py` file\n",
    "# %load model.py"
   ]
  },
  {
   "cell_type": "markdown",
   "metadata": {
    "slideshow": {
     "slide_type": "slide"
    }
   },
   "source": [
    "## Using SALib to run a Sensitivity Analysis\n",
    "\n",
    "As we saw earlier, SALib is a **free** **open-source** **Python** library which you can install by running the command\n",
    "\n",
    "```python\n",
    "pip install SALib\n",
    "```\n",
    "\n",
    "[Documentation](http://salib.readthedocs.org/) is available online.\n"
   ]
  },
  {
   "cell_type": "markdown",
   "metadata": {
    "slideshow": {
     "slide_type": "subslide"
    }
   },
   "source": [
    "### Import the package"
   ]
  },
  {
   "cell_type": "code",
   "execution_count": 3,
   "metadata": {
    "collapsed": false,
    "slideshow": {
     "slide_type": "fragment"
    }
   },
   "outputs": [],
   "source": [
    "from SALib.sample import morris as ms\n",
    "from SALib.analyze import morris as ma\n",
    "from SALib.plotting import morris as mp"
   ]
  },
  {
   "cell_type": "markdown",
   "metadata": {
    "slideshow": {
     "slide_type": "subslide"
    }
   },
   "source": [
    "### Define a problem file\n",
    "\n",
    "In the code below, a problem file is used to define the variables we wish to explore"
   ]
  },
  {
   "cell_type": "code",
   "execution_count": 4,
   "metadata": {
    "collapsed": true,
    "slideshow": {
     "slide_type": "fragment"
    }
   },
   "outputs": [],
   "source": [
    "morris_problem = {\n",
    "    # There are six variables\n",
    "    'num_vars': 7,\n",
    "    # These are their names\n",
    "    'names': ['conn', 'batt', 'dist', 'range', 'dri_eff', 'inv_eff', 'dispatch_time'],\n",
    "    # These are their plausible ranges over which we'll move the variables\n",
    "    'bounds': [[2.3, 22], # connection_power (kW)\n",
    "               [50, 100], # battery size (kWh)\n",
    "               [0, 80], # distance driven (km)\n",
    "               [0, 80], # range buffer (km)\n",
    "               [4,5.5], # driving efficiency (kWh/km)\n",
    "               [0.87,0.97], # inverter efficienct (%)\n",
    "               [0.5, 24] # dispatch time - hours of the day in which the energy is dispatched\n",
    "              ],\n",
    "    # I don't want to group any of these variables together\n",
    "    'groups': None\n",
    "    }"
   ]
  },
  {
   "cell_type": "markdown",
   "metadata": {
    "slideshow": {
     "slide_type": "subslide"
    }
   },
   "source": [
    "### Generate a Sample\n",
    "\n",
    "We then generate a sample using the `morris.sample()` procedure from the SALib package."
   ]
  },
  {
   "cell_type": "code",
   "execution_count": 5,
   "metadata": {
    "collapsed": false,
    "slideshow": {
     "slide_type": "fragment"
    }
   },
   "outputs": [
    {
     "name": "stdout",
     "output_type": "stream",
     "text": [
      "The sample array is  (8000, 7)\n",
      "Here are the first 10 rows:\n",
      "    15.433     83.333     80.000     80.000      5.000      0.903     24.000\n",
      "    15.433     83.333     80.000     80.000      5.000      0.970     24.000\n",
      "    15.433     83.333     26.667     80.000      5.000      0.970     24.000\n",
      "    15.433     83.333     26.667     80.000      5.000      0.970      8.333\n",
      "    15.433     83.333     26.667     26.667      5.000      0.970      8.333\n",
      "    15.433     50.000     26.667     26.667      5.000      0.970      8.333\n",
      "    15.433     50.000     26.667     26.667      4.000      0.970      8.333\n",
      "     2.300     50.000     26.667     26.667      4.000      0.970      8.333\n",
      "     2.300     66.667     80.000     80.000      4.000      0.970      0.500\n",
      "     2.300     66.667     80.000     80.000      4.000      0.903      0.500\n"
     ]
    }
   ],
   "source": [
    "number_of_trajectories = 1000\n",
    "sample = ms.sample(morris_problem, number_of_trajectories, num_levels=4, grid_jump=2)\n",
    "print(\"The sample array is \",sample.shape)\n",
    "print(\"Here are the first 10 rows:\")\n",
    "for j in range(10):\n",
    "    print(' '.join(['{:10.3f}'.format(i) for i in sample[j]]))\n"
   ]
  },
  {
   "cell_type": "markdown",
   "metadata": {},
   "source": [
    "Now we're going to save the parameters to a file, so we can run the jobs separately not in this notebook."
   ]
  },
  {
   "cell_type": "code",
   "execution_count": 6,
   "metadata": {
    "collapsed": true
   },
   "outputs": [],
   "source": [
    "np.savetxt(\"parameter_values.txt\", sample)\n",
    "with open(\"results.txt\", 'w') as result_file:  # 'w' is write mode, and will clear the file.\n",
    "    result_file.write('')"
   ]
  },
  {
   "cell_type": "markdown",
   "metadata": {},
   "source": [
    "# Stop!  \n",
    "## Now (pretend) we need to run the simulations on Discovery\n",
    "\n",
    "To run this on Discovery, you will need to copy the `parameter_values.txt` file on to Discovery, along with a Python script file (eg. `script.py`) that looks like the cell a few lines below.  Use an SCP or SFTP program, as described earlier in the tutorial.\n",
    "\n",
    "This is how many simulations we will need to run:"
   ]
  },
  {
   "cell_type": "code",
   "execution_count": 7,
   "metadata": {
    "collapsed": false
   },
   "outputs": [
    {
     "data": {
      "text/plain": [
       "8000"
      ]
     },
     "execution_count": 7,
     "metadata": {},
     "output_type": "execute_result"
    }
   ],
   "source": [
    "len(sample)"
   ]
  },
  {
   "cell_type": "markdown",
   "metadata": {},
   "source": [
    "...but the Slurm on Discovery is configured with a maximum job array size of 1001. (Run `scontrol show config | grep MaxArraySize` on Discovery to check). So we will run 1000 jobs, each of which runs 8 simulations.\n",
    "\n",
    "*To update the following cell, uncomment the first `%load script.py` line and execute it - that will load in the `script.py` file which lives alongside this notebook and is where you should make changes if you are editing this tutorial.*"
   ]
  },
  {
   "cell_type": "code",
   "execution_count": null,
   "metadata": {
    "collapsed": false
   },
   "outputs": [],
   "source": [
    "# %load script.py\n",
    "# This is a script that you should run on Discovery,\n",
    "# as part of a Slurm Array job, with 1000 jobs.\n",
    "import numpy as np\n",
    "import os\n",
    "from model import max_vehicle_power\n",
    "big_parameter_list = np.loadtxt(\"parameter_values.txt\")\n",
    "job_number = int(os.getenv('SLURM_ARRAY_TASK_ID', default='0'))\n",
    "assert 0<=job_number<1000, \"Job number should run from 0 to 999\"\n",
    "for i in range(8):\n",
    "    parameter_number = (8 * job_number) + i\n",
    "    parameters = big_parameter_list[parameter_number]\n",
    "    result = max_vehicle_power(*parameters)\n",
    "    \"\"\"\n",
    "    Because we don't know what order the jobs will complete in,\n",
    "    the results may be written out of order!\n",
    "    To deal with this, we will write the job number in the results file\n",
    "    as well as the result:\n",
    "    \"\"\"\n",
    "    with open(\"results.txt\", 'a') as result_file: # 'a' is append mode, and will add to the file.\n",
    "        result_file.write('{} {}\\n'.format(parameter_number, result)) # the '\\n' is a new line\n"
   ]
  },
  {
   "cell_type": "markdown",
   "metadata": {},
   "source": [
    "Then create a `submit.sh` script to run it as an Array job, to fill the `results.txt` file with results.\n",
    "But realize that your Python script above expects the job number to start at zero, so you'll probably want something like\n",
    "```\n",
    "    #SBATCH --array=0-999%40\n",
    "```\n",
    "in your batch file.\n",
    "Once your jobs have all finished, copy the `results.txt` back to your computer and put it alongside this Notebook.\n"
   ]
  },
  {
   "cell_type": "markdown",
   "metadata": {},
   "source": [
    "## Importing and analyzing the results \n",
    "Then come back here to load the results and continue the sensitivy analysis.\n",
    "Because our results file may not be in order, but contains the job number at the start of each line, we need to do a little manipulation to get the `output` array as needed"
   ]
  },
  {
   "cell_type": "code",
   "execution_count": 15,
   "metadata": {
    "collapsed": false
   },
   "outputs": [
    {
     "ename": "ValueError",
     "evalue": "Wrong number of columns at line 112",
     "output_type": "error",
     "traceback": [
      "\u001b[0;31m---------------------------------------------------------------------------\u001b[0m",
      "\u001b[0;31mValueError\u001b[0m                                Traceback (most recent call last)",
      "\u001b[0;32m<ipython-input-15-bb59a9264336>\u001b[0m in \u001b[0;36m<module>\u001b[0;34m()\u001b[0m\n\u001b[0;32m----> 1\u001b[0;31m \u001b[0mresults_array\u001b[0m \u001b[0;34m=\u001b[0m \u001b[0mnp\u001b[0m\u001b[0;34m.\u001b[0m\u001b[0mloadtxt\u001b[0m\u001b[0;34m(\u001b[0m\u001b[0;34m\"results.txt\"\u001b[0m\u001b[0;34m)\u001b[0m\u001b[0;34m\u001b[0m\u001b[0m\n\u001b[0m\u001b[1;32m      2\u001b[0m \u001b[0mresults_dict\u001b[0m \u001b[0;34m=\u001b[0m \u001b[0mdict\u001b[0m\u001b[0;34m(\u001b[0m\u001b[0;34m)\u001b[0m\u001b[0;34m\u001b[0m\u001b[0m\n\u001b[1;32m      3\u001b[0m \u001b[0;32mfor\u001b[0m \u001b[0mnumber\u001b[0m\u001b[0;34m,\u001b[0m \u001b[0mvalue\u001b[0m \u001b[0;32min\u001b[0m \u001b[0mresults_array\u001b[0m\u001b[0;34m:\u001b[0m\u001b[0;34m\u001b[0m\u001b[0m\n\u001b[1;32m      4\u001b[0m     \u001b[0mresults_dict\u001b[0m\u001b[0;34m[\u001b[0m\u001b[0mint\u001b[0m\u001b[0;34m(\u001b[0m\u001b[0mnumber\u001b[0m\u001b[0;34m)\u001b[0m\u001b[0;34m]\u001b[0m \u001b[0;34m=\u001b[0m \u001b[0mvalue\u001b[0m\u001b[0;34m\u001b[0m\u001b[0m\n\u001b[1;32m      5\u001b[0m \u001b[0mresults_dict\u001b[0m\u001b[0;34m\u001b[0m\u001b[0m\n",
      "\u001b[0;32m/Users/rwest/anaconda/envs/py3/lib/python3.5/site-packages/numpy/lib/npyio.py\u001b[0m in \u001b[0;36mloadtxt\u001b[0;34m(fname, dtype, comments, delimiter, converters, skiprows, usecols, unpack, ndmin)\u001b[0m\n\u001b[1;32m    925\u001b[0m                 \u001b[0mline_num\u001b[0m \u001b[0;34m=\u001b[0m \u001b[0mi\u001b[0m \u001b[0;34m+\u001b[0m \u001b[0mskiprows\u001b[0m \u001b[0;34m+\u001b[0m \u001b[0;36m1\u001b[0m\u001b[0;34m\u001b[0m\u001b[0m\n\u001b[1;32m    926\u001b[0m                 raise ValueError(\"Wrong number of columns at line %d\"\n\u001b[0;32m--> 927\u001b[0;31m                                  % line_num)\n\u001b[0m\u001b[1;32m    928\u001b[0m \u001b[0;34m\u001b[0m\u001b[0m\n\u001b[1;32m    929\u001b[0m             \u001b[0;31m# Convert each value according to its column and store\u001b[0m\u001b[0;34m\u001b[0m\u001b[0;34m\u001b[0m\u001b[0m\n",
      "\u001b[0;31mValueError\u001b[0m: Wrong number of columns at line 112"
     ]
    }
   ],
   "source": [
    "results_array = np.loadtxt(\"results.txt\")\n",
    "results_dict = dict()\n",
    "for number, value in results_array:\n",
    "    results_dict[int(number)] = value\n",
    "results_dict\n",
    "output = np.array([results_dict[i] for i in range(len(results_dict))])\n",
    "output"
   ]
  },
  {
   "cell_type": "markdown",
   "metadata": {
    "slideshow": {
     "slide_type": "subslide"
    }
   },
   "source": [
    "### Factor Prioritisation\n",
    "\n",
    "We'll run a sensitivity analysis to see which is the most influential parameter.\n",
    "\n",
    "The results parameters are called **mu**, **sigma** and **mu_star**.\n",
    "\n",
    "* **Mu** is the mean effect caused by the input parameter being moved over its range.\n",
    "* **Sigma** is the standard deviation of the mean effect.\n",
    "* **Mu_star** is the mean absolute effect."
   ]
  },
  {
   "cell_type": "code",
   "execution_count": null,
   "metadata": {
    "collapsed": false,
    "slideshow": {
     "slide_type": "fragment"
    }
   },
   "outputs": [],
   "source": [
    "Si = ma.analyze(morris_problem, sample, output, print_to_console=False)\n",
    "print(\"{:20s} {:>7s} {:>7s} {:>7s}\".format(\"Name\", \"mu\", \"mu_star\", \"sigma\"))\n",
    "for name, s1, st, mean in zip(morris_problem['names'], Si['mu'], Si['mu_star'], Si['sigma']):\n",
    "    print(\"{:20s} {:=7.2f} {:=7.2f} {:=7.2f}\".format(name, s1, st, mean))"
   ]
  },
  {
   "cell_type": "markdown",
   "metadata": {
    "slideshow": {
     "slide_type": "subslide"
    }
   },
   "source": [
    "We can plot the results"
   ]
  },
  {
   "cell_type": "code",
   "execution_count": null,
   "metadata": {
    "collapsed": false,
    "slideshow": {
     "slide_type": "fragment"
    }
   },
   "outputs": [],
   "source": [
    "fig, (ax1, ax2) = plt.subplots(1,2)\n",
    "mp.horizontal_bar_plot(ax1, Si, param_dict={})\n",
    "mp.covariance_plot(ax2, Si, {})"
   ]
  },
  {
   "cell_type": "code",
   "execution_count": null,
   "metadata": {
    "collapsed": true
   },
   "outputs": [],
   "source": []
  },
  {
   "cell_type": "code",
   "execution_count": null,
   "metadata": {
    "collapsed": true
   },
   "outputs": [],
   "source": []
  }
 ],
 "metadata": {
  "anaconda-cloud": {},
  "kernelspec": {
   "display_name": "Python [conda env:py3]",
   "language": "python",
   "name": "conda-env-py3-py"
  },
  "language_info": {
   "codemirror_mode": {
    "name": "ipython",
    "version": 3
   },
   "file_extension": ".py",
   "mimetype": "text/x-python",
   "name": "python",
   "nbconvert_exporter": "python",
   "pygments_lexer": "ipython3",
   "version": "3.5.2"
  }
 },
 "nbformat": 4,
 "nbformat_minor": 0
}
