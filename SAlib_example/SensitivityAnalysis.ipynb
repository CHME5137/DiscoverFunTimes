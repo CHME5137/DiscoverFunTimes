{
 "cells": [
  {
   "cell_type": "markdown",
   "metadata": {
    "slideshow": {
     "slide_type": "slide"
    }
   },
   "source": [
    "# Using Sensitivity Analysis to Interrogate Models\n",
    "\n",
    "Original notebook: Will Usher, UCL Energy Institute, 10th December 2015 <br/>\n",
    "Updates to demonstrate running array jobs on a cluster: Richard West, 2016\n",
    "\n",
    "In this version, most of the background and detail have been removed. Please refer to the original at https://github.com/SALib/SATut if you are not familiar with the system."
   ]
  },
  {
   "cell_type": "code",
   "execution_count": 1,
   "metadata": {
    "collapsed": false,
    "slideshow": {
     "slide_type": "skip"
    }
   },
   "outputs": [],
   "source": [
    "from ipywidgets import widgets, interact\n",
    "from IPython.display import display\n",
    "%matplotlib inline\n",
    "import seaborn as sbn\n",
    "import matplotlib.pyplot as plt\n",
    "import numpy as np\n",
    "from IPython.core.pylabtools import figsize\n",
    "figsize(12, 10)\n",
    "sbn.set_context(\"talk\", font_scale=1)\n",
    "\n",
    "# The model used for this seminar is contained in the file model.py\n",
    "from model import cost_of_vehicle_to_grid, compute_profit, annualized_capital_cost, battery_lifetime, max_vehicle_power"
   ]
  },
  {
   "cell_type": "code",
   "execution_count": 2,
   "metadata": {
    "collapsed": true,
    "slideshow": {
     "slide_type": "skip"
    }
   },
   "outputs": [],
   "source": [
    "# Uncomment and execute the following line to see the contents of the `model.py` file\n",
    "# %load model.py"
   ]
  },
  {
   "cell_type": "markdown",
   "metadata": {
    "slideshow": {
     "slide_type": "subslide"
    }
   },
   "source": [
    "### One-at-time approach\n",
    "\n",
    "First, we're going to try the **one-at-a-time** (OAT) approach.\n",
    "\n",
    "Find the sliders in the example which are set up for the parameters of the Nissan Leaf."
   ]
  },
  {
   "cell_type": "code",
   "execution_count": 5,
   "metadata": {
    "collapsed": false,
    "slideshow": {
     "slide_type": "skip"
    }
   },
   "outputs": [
    {
     "name": "stdout",
     "output_type": "stream",
     "text": [
      "The maximum power is 2.3 kW\n"
     ]
    }
   ],
   "source": [
    "@interact(connector=widgets.FloatSlider(value=2.3, min=2.3, max=22, step=0.5), \n",
    "          battery_size=widgets.FloatSlider(value=24, min=10, max=100, step=5), \n",
    "          distance_driven=widgets.FloatSlider(value=0, min=0, max=100, step=5), \n",
    "          range_buffer=widgets.FloatSlider(value=0, min=0, max=100, step=10),\n",
    "          dispatch_time=widgets.FloatSlider(value=1.4, min=0.5, max=24, step=0.5))\n",
    "def plot_power(connector, battery_size, distance_driven, range_buffer, dispatch_time):\n",
    "    power = max_vehicle_power(connector,\n",
    "                      battery_size,\n",
    "                      distance_driven,\n",
    "                      range_buffer,\n",
    "                      dispatch_time\n",
    "                      )\n",
    "    return print(\"The maximum power is {} kW\".format(round(power, 2)))\n"
   ]
  },
  {
   "cell_type": "code",
   "execution_count": 6,
   "metadata": {
    "collapsed": true,
    "slideshow": {
     "slide_type": "skip"
    }
   },
   "outputs": [],
   "source": [
    "def monte_carlo_large(data):\n",
    "    dispatch_time = 4\n",
    "    y = max_vehicle_power(data[0], data[1], data[2], data[3], data[6], data[4], data[5])\n",
    "    return y"
   ]
  },
  {
   "cell_type": "markdown",
   "metadata": {
    "slideshow": {
     "slide_type": "slide"
    }
   },
   "source": [
    "# Using SALib to run a Sensitivity Analysis\n",
    "\n",
    "SALib is a **free** **open-source** **Python** library\n",
    "\n",
    "If you use Python, you can install it by running the command\n",
    "\n",
    "```python\n",
    "pip install SALib\n",
    "```\n",
    "\n",
    "[Documentation](http://salib.readthedocs.org/) is available online and you can also view the code on [Github](http://salib.github.io/SALib/).\n",
    "\n",
    "The library includes:\n",
    "* Sobol Sensitivity Analysis ([Sobol 2001](http://www.sciencedirect.com/science/article/pii/S0378475400002706), [Saltelli 2002](http://www.sciencedirect.com/science/article/pii/S0010465502002801), [Saltelli et al. 2010](http://www.sciencedirect.com/science/article/pii/S0010465509003087))\n",
    "* Method of Morris, including groups and optimal trajectories ([Morris 1991](http://www.tandfonline.com/doi/abs/10.1080/00401706.1991.10484804), [Campolongo et al. 2007](http://www.sciencedirect.com/science/article/pii/S1364815206002805))\n",
    "* Fourier Amplitude Sensitivity Test (FAST) ([Cukier et al. 1973](http://scitation.aip.org/content/aip/journal/jcp/59/8/10.1063/1.1680571), [Saltelli et al. 1999](http://amstat.tandfonline.com/doi/abs/10.1080/00401706.1999.10485594))\n",
    "* Delta Moment-Independent Measure ([Borgonovo 2007](http://www.sciencedirect.com/science/article/pii/S0951832006000883), [Plischke et al. 2013](http://www.sciencedirect.com/science/article/pii/S0377221712008995))\n",
    "* Derivative-based Global Sensitivity Measure (DGSM) ([Sobol and Kucherenko 2009](http://www.sciencedirect.com/science/article/pii/S0378475409000354))\n",
    "* Fractional Factorial Sensitivity Analysis ([Saltelli et al. 2008](http://www.wiley.com/WileyCDA/WileyTitle/productCd-0470059974.html))\n"
   ]
  },
  {
   "cell_type": "markdown",
   "metadata": {
    "slideshow": {
     "slide_type": "subslide"
    }
   },
   "source": [
    "### Import the package"
   ]
  },
  {
   "cell_type": "code",
   "execution_count": 7,
   "metadata": {
    "collapsed": false,
    "slideshow": {
     "slide_type": "fragment"
    }
   },
   "outputs": [],
   "source": [
    "from SALib.sample import morris as ms\n",
    "from SALib.analyze import morris as ma\n",
    "from SALib.plotting import morris as mp"
   ]
  },
  {
   "cell_type": "markdown",
   "metadata": {
    "slideshow": {
     "slide_type": "subslide"
    }
   },
   "source": [
    "### Define a problem file\n",
    "\n",
    "In the code below, a problem file is used to define the variables we wish to explore"
   ]
  },
  {
   "cell_type": "code",
   "execution_count": 8,
   "metadata": {
    "collapsed": true,
    "slideshow": {
     "slide_type": "fragment"
    }
   },
   "outputs": [],
   "source": [
    "morris_problem = {\n",
    "    # There are six variables\n",
    "    'num_vars': 7,\n",
    "    # These are their names\n",
    "    'names': ['conn', 'batt', 'dist', 'range', 'dri_eff', 'inv_eff', 'dispatch_time'],\n",
    "    # These are their plausible ranges over which we'll move the variables\n",
    "    'bounds': [[2.3, 22], # connection_power (kW)\n",
    "               [50, 100], # battery size (kWh)\n",
    "               [0, 80], # distance driven (km)\n",
    "               [0, 80], # range buffer (km)\n",
    "               [4,5.5], # driving efficiency (kWh/km)\n",
    "               [0.87,0.97], # inverter efficienct (%)\n",
    "               [0.5, 24] # dispatch time - hours of the day in which the energy is dispatched\n",
    "              ],\n",
    "    # I don't want to group any of these variables together\n",
    "    'groups': None\n",
    "    }"
   ]
  },
  {
   "cell_type": "markdown",
   "metadata": {
    "slideshow": {
     "slide_type": "subslide"
    }
   },
   "source": [
    "### Generate a Sample\n",
    "\n",
    "We then generate a sample using the `morris.sample()` procedure from the SALib package."
   ]
  },
  {
   "cell_type": "code",
   "execution_count": 10,
   "metadata": {
    "collapsed": false,
    "slideshow": {
     "slide_type": "fragment"
    }
   },
   "outputs": [
    {
     "name": "stdout",
     "output_type": "stream",
     "text": [
      "The sample array is  (8000, 7)\n",
      "Here are the first 10 rows:\n",
      "    22.000     83.333     53.333      0.000      4.500      0.970      0.500\n",
      "    22.000     83.333     53.333      0.000      5.500      0.970      0.500\n",
      "    22.000     83.333     53.333      0.000      5.500      0.903      0.500\n",
      "     8.867     83.333     53.333      0.000      5.500      0.903      0.500\n",
      "     8.867     50.000     53.333      0.000      5.500      0.903      0.500\n",
      "     8.867     50.000     53.333     53.333      5.500      0.903      0.500\n",
      "     8.867     50.000     53.333     53.333      5.500      0.903     16.167\n",
      "     8.867     50.000      0.000     53.333      5.500      0.903     16.167\n",
      "    22.000     50.000     80.000     80.000      5.000      0.870     24.000\n",
      "    22.000     50.000     26.667     80.000      5.000      0.870     24.000\n"
     ]
    }
   ],
   "source": [
    "number_of_trajectories = 1000\n",
    "sample = ms.sample(morris_problem, number_of_trajectories, num_levels=4, grid_jump=2)\n",
    "print(\"The sample array is \",sample.shape)\n",
    "print(\"Here are the first 10 rows:\")\n",
    "for j in range(10):\n",
    "    print(' '.join(['{:10.3f}'.format(i) for i in sample[j]]))\n"
   ]
  },
  {
   "cell_type": "markdown",
   "metadata": {
    "slideshow": {
     "slide_type": "subslide"
    }
   },
   "source": [
    "### Factor Prioritisation\n",
    "\n",
    "We'll run a sensitivity analysis of the power module to see which is the most influential parameter.\n",
    "\n",
    "The results parameters are called **mu**, **sigma** and **mu_star**.\n",
    "\n",
    "* **Mu** is the mean effect caused by the input parameter being moved over its range.\n",
    "* **Sigma** is the standard deviation of the mean effect.\n",
    "* **Mu_star** is the mean absolute effect."
   ]
  },
  {
   "cell_type": "code",
   "execution_count": 31,
   "metadata": {
    "collapsed": false,
    "slideshow": {
     "slide_type": "fragment"
    }
   },
   "outputs": [
    {
     "name": "stdout",
     "output_type": "stream",
     "text": [
      "Name                      mu mu_star   sigma\n",
      "conn                    6.04    6.04    8.27\n",
      "batt                    2.01    2.01    1.95\n",
      "dist                 -  0.69    0.69    0.68\n",
      "range                -  0.67    0.67    0.68\n",
      "dri_eff                 0.23    0.23    0.35\n",
      "inv_eff                 0.23    0.23    0.27\n",
      "dispatch_time        -  9.11    9.11    8.90\n"
     ]
    }
   ],
   "source": [
    "# Run the sample through the monte carlo procedure of the power model\n",
    "output = monte_carlo_large(sample.T)\n",
    "# Store the results for plotting of the analysis\n",
    "Si = ma.analyze(morris_problem, sample, output, print_to_console=False)\n",
    "print(\"{:20s} {:>7s} {:>7s} {:>7s}\".format(\"Name\", \"mu\", \"mu_star\", \"sigma\"))\n",
    "for name, s1, st, mean in zip(morris_problem['names'], Si['mu'], Si['mu_star'], Si['sigma']):\n",
    "    print(\"{:20s} {:=7.2f} {:=7.2f} {:=7.2f}\".format(name, s1, st, mean))"
   ]
  },
  {
   "cell_type": "markdown",
   "metadata": {
    "slideshow": {
     "slide_type": "subslide"
    }
   },
   "source": [
    "We can plot the results"
   ]
  },
  {
   "cell_type": "code",
   "execution_count": 33,
   "metadata": {
    "collapsed": false,
    "slideshow": {
     "slide_type": "fragment"
    }
   },
   "outputs": [
    {
     "data": {
      "text/plain": [
       "<matplotlib.collections.PathCollection at 0x11a5e5c88>"
      ]
     },
     "execution_count": 33,
     "metadata": {},
     "output_type": "execute_result"
    },
    {
     "data": {
      "image/png": "[encoded data removed]",
      "text/plain": [
       "<matplotlib.figure.Figure at 0x11a5b5550>"
      ]
     },
     "metadata": {},
     "output_type": "display_data"
    }
   ],
   "source": [
    "fig, (ax1, ax2) = plt.subplots(1,2)\n",
    "mp.horizontal_bar_plot(ax1, Si, param_dict={})\n",
    "mp.covariance_plot(ax2, Si, {})"
   ]
  },
  {
   "cell_type": "markdown",
   "metadata": {
    "slideshow": {
     "slide_type": "slide"
    }
   },
   "source": [
    "## A More Complicated Example\n",
    "\n",
    "Lets look at a more complicated example.  This now integrates the previous power module into a simple cost-benefit analysis.\n",
    "\n",
    "Trying to work out anything with all those sliders is pretty difficult.  We need to strip out the uneccesssary parameters and focus our efforts on the influential inputs."
   ]
  },
  {
   "cell_type": "code",
   "execution_count": 34,
   "metadata": {
    "collapsed": false,
    "slideshow": {
     "slide_type": "skip"
    }
   },
   "outputs": [
    {
     "name": "stdout",
     "output_type": "stream",
     "text": [
      "Profit £-846.98 = £258.44 - £1105.43\n"
     ]
    }
   ],
   "source": [
    "@interact(battery_size=widgets.FloatSlider(value=24, min=10, max=100, step=5), \n",
    "          battery_unit_cost=widgets.FloatSlider(value=350, min=100, max=400, step=50),\n",
    "          connector_power=widgets.FloatSlider(value=2.3, min=2.3, max=22, step=0.5), \n",
    "          lifetime_cycles=widgets.FloatSlider(value=2000, min=1000, max=10000, step=1000),\n",
    "          depth_of_discharge=widgets.FloatSlider(value=0.8, min=0.5, max=1.0, step=0.1),\n",
    "          electricity_price=widgets.FloatSlider(value=0.1, min=0.01, max=0.5, step=0.01),\n",
    "          purchased_energy_cost=widgets.FloatSlider(value=0.1, min=0.01, max=0.5, step=0.01),\n",
    "          capacity_price=widgets.FloatSlider(value=0.007, min=0.001, max=0.01, step=0.001),\n",
    "          round_trip_efficiency=widgets.FloatSlider(value=0.73, min=0.50, max=1.0, step=0.01),\n",
    "          cost_of_v2g_equip=widgets.FloatSlider(value=2000, min=100, max=5000, step=100),\n",
    "          discount_rate=widgets.FloatSlider(value=0.10, min=0.0, max=0.2, step=0.01),\n",
    "          economic_lifetime=widgets.FloatSlider(value=10, min=3, max=25, step=1),\n",
    "          ratio_dispatch_to_contract=widgets.FloatSlider(value=0.10, min=0.01, max=0.50, step=0.01),\n",
    "          distance_driven=widgets.FloatSlider(value=0, min=0, max=100, step=5), \n",
    "          range_buffer=widgets.FloatSlider(value=0, min=0, max=100, step=10),\n",
    "          hours_connected_per_day=widgets.FloatSlider(value=18, min=0.5, max=24, step=0.5))\n",
    "def plot_profit(battery_size,\n",
    "                battery_unit_cost,\n",
    "                connector_power,\n",
    "                lifetime_cycles,\n",
    "                depth_of_discharge,\n",
    "                electricity_price,\n",
    "                purchased_energy_cost,\n",
    "                capacity_price,\n",
    "                round_trip_efficiency,\n",
    "                cost_of_v2g_equip,\n",
    "                discount_rate,\n",
    "                economic_lifetime,\n",
    "                distance_driven,\n",
    "                range_buffer,\n",
    "                ratio_dispatch_to_contract,\n",
    "                hours_connected_per_day):\n",
    "    profit, revenue, cost = compute_profit(\n",
    "                                            battery_size,\n",
    "                                            battery_unit_cost,\n",
    "                                            connector_power,\n",
    "                                            lifetime_cycles,\n",
    "                                            depth_of_discharge,\n",
    "                                            electricity_price,\n",
    "                                            purchased_energy_cost,\n",
    "                                            capacity_price,\n",
    "                                            round_trip_efficiency,\n",
    "                                            cost_of_v2g_equip,\n",
    "                                            discount_rate,\n",
    "                                            economic_lifetime,\n",
    "                                            distance_driven,\n",
    "                                            range_buffer,\n",
    "                                            ratio_dispatch_to_contract,\n",
    "                                            hours_connected_per_day\n",
    "                                            )\n",
    "    return print(\"Profit £{} = £{} - £{}\".format(np.round(profit,2), np.round(revenue, 2), np.round(cost,2) ))"
   ]
  },
  {
   "cell_type": "markdown",
   "metadata": {
    "slideshow": {
     "slide_type": "subslide"
    }
   },
   "source": [
    "### Factor Fixing\n",
    "\n",
    "We'll perform a **factor fixing** sensitivity analysis using a different method - that of Sobol."
   ]
  },
  {
   "cell_type": "code",
   "execution_count": 35,
   "metadata": {
    "collapsed": false,
    "slideshow": {
     "slide_type": "skip"
    }
   },
   "outputs": [],
   "source": [
    "from SALib.sample.saltelli import sample as ss\n",
    "from SALib.analyze.sobol import analyze as sa\n",
    "\n",
    "problem = {\n",
    "    # There are sixteen variables\n",
    "    'num_vars': 16,\n",
    "    # These are their names\n",
    "    'names': ['battery_size',\n",
    "              'battery_unit_cost',\n",
    "              'connector_power',\n",
    "              'lifetime_cycles',\n",
    "              'depth_of_discharge',\n",
    "              'electricity_price',\n",
    "              'purchased_energy_cost',\n",
    "              'capacity_price',\n",
    "              'round_trip_efficiency',\n",
    "              'cost_of_v2g_equip',\n",
    "              'discount_rate',\n",
    "              'economic_lifetime',\n",
    "              'distance_driven',\n",
    "              'range_buffer',\n",
    "              'ratio_dispatch_to_contract',\n",
    "              'hours_connected_per_day'],\n",
    "    # These are their plausible ranges over which we'll move the variables\n",
    "    'bounds': [       \n",
    "                [10, 100],\n",
    "                [100, 400],\n",
    "                [2.3, 22],\n",
    "                [1000, 10000],\n",
    "                [0.5, 1.0],\n",
    "                [0.01, 0.2], \n",
    "                [0.01, 0.2],\n",
    "                [0.001, 0.01], \n",
    "                [0.65, 1.0],\n",
    "                [100, 5000],\n",
    "                [0.0, 0.2], \n",
    "                [3, 25],\n",
    "                [0, 100], \n",
    "                [0, 100], \n",
    "                [0.01, 0.50],\n",
    "                [0.5, 24],\n",
    "              ],\n",
    "    # I don't want to group any of these variables together\n",
    "    'groups': None\n",
    "    }"
   ]
  },
  {
   "cell_type": "code",
   "execution_count": 36,
   "metadata": {
    "collapsed": false,
    "slideshow": {
     "slide_type": "fragment"
    }
   },
   "outputs": [
    {
     "name": "stdout",
     "output_type": "stream",
     "text": [
      "Name                           1st Total Mean of Input\n",
      "battery_size                 -0.01  0.25 (       55.00)\n",
      "battery_unit_cost             0.01  0.03 (      250.10)\n",
      "connector_power               0.01  0.04 (       12.14)\n",
      "lifetime_cycles               0.05  0.09 (     5501.03)\n",
      "depth_of_discharge            0.00  0.03 (        0.75)\n",
      "electricity_price             0.01  0.06 (        0.10)\n",
      "purchased_energy_cost         0.02  0.13 (        0.10)\n",
      "capacity_price                0.01  0.03 (        0.01)\n",
      "round_trip_efficiency         0.00  0.01 (        0.82)\n",
      "cost_of_v2g_equip             0.27  0.34 (     2549.62)\n",
      "discount_rate                 0.05  0.08 (        0.10)\n",
      "economic_lifetime             0.13  0.16 (       14.00)\n",
      "distance_driven              -0.00  0.03 (       49.96)\n",
      "range_buffer                 -0.01  0.03 (       50.01)\n",
      "ratio_dispatch_to_contract    0.07  0.27 (        0.26)\n",
      "hours_connected_per_day      -0.01  0.06 (       12.26)\n"
     ]
    }
   ],
   "source": [
    "sample = ss(problem, 1000, calc_second_order=False)\n",
    "profit, revenue, cost = compute_profit(sample[:,0], sample[:,1], sample[:,2], sample[:,3], sample[:,4], sample[:,5], sample[:,6]\n",
    "                       , sample[:,7], sample[:,8], sample[:,9], sample[:,10], sample[:,11], sample[:,12], sample[:,13]\n",
    "                       , sample[:,14], sample[:,15])\n",
    "SI = sa(problem, profit, calc_second_order=False, print_to_console=False)\n",
    "print(\"{:28s} {:>5s} {:>5s} {:>12s}\".format(\"Name\", \"1st\", \"Total\", \"Mean of Input\"))\n",
    "for name, s1, st, mean in zip(problem['names'], SI['S1'], SI['ST'], sample.mean(axis=0)):\n",
    "    print(\"{:28s} {:=5.2f} {:=5.2f} ({:=12.2f})\".format(name, s1, st, mean))"
   ]
  },
  {
   "cell_type": "code",
   "execution_count": 42,
   "metadata": {
    "collapsed": false
   },
   "outputs": [
    {
     "name": "stdout",
     "output_type": "stream",
     "text": [
      "(18000, 16)\n",
      "29.775 129.004 12.516 7090.820 0.640 0.182 0.019 0.009 0.825 439.746 0.017 8.607 16.113 38.379 0.080 9.198\n",
      "74.775 129.004 12.516 7090.820 0.640 0.182 0.019 0.009 0.825 439.746 0.017 8.607 16.113 38.379 0.080 9.198\n",
      "29.775 203.418 12.516 7090.820 0.640 0.182 0.019 0.009 0.825 439.746 0.017 8.607 16.113 38.379 0.080 9.198\n",
      "29.775 129.004 21.827 7090.820 0.640 0.182 0.019 0.009 0.825 439.746 0.017 8.607 16.113 38.379 0.080 9.198\n",
      "29.775 129.004 12.516 7530.273 0.640 0.182 0.019 0.009 0.825 439.746 0.017 8.607 16.113 38.379 0.080 9.198\n",
      "29.775 129.004 12.516 7090.820 0.761 0.182 0.019 0.009 0.825 439.746 0.017 8.607 16.113 38.379 0.080 9.198\n",
      "29.775 129.004 12.516 7090.820 0.640 0.114 0.019 0.009 0.825 439.746 0.017 8.607 16.113 38.379 0.080 9.198\n",
      "29.775 129.004 12.516 7090.820 0.640 0.182 0.191 0.009 0.825 439.746 0.017 8.607 16.113 38.379 0.080 9.198\n",
      "29.775 129.004 12.516 7090.820 0.640 0.182 0.019 0.006 0.825 439.746 0.017 8.607 16.113 38.379 0.080 9.198\n",
      "29.775 129.004 12.516 7090.820 0.640 0.182 0.019 0.009 0.854 439.746 0.017 8.607 16.113 38.379 0.080 9.198\n",
      "29.775 129.004 12.516 7090.820 0.640 0.182 0.019 0.009 0.825 4545.410 0.017 8.607 16.113 38.379 0.080 9.198\n",
      "29.775 129.004 12.516 7090.820 0.640 0.182 0.019 0.009 0.825 439.746 0.008 8.607 16.113 38.379 0.080 9.198\n",
      "29.775 129.004 12.516 7090.820 0.640 0.182 0.019 0.009 0.825 439.746 0.017 24.549 16.113 38.379 0.080 9.198\n",
      "29.775 129.004 12.516 7090.820 0.640 0.182 0.019 0.009 0.825 439.746 0.017 8.607 5.957 38.379 0.080 9.198\n",
      "29.775 129.004 12.516 7090.820 0.640 0.182 0.019 0.009 0.825 439.746 0.017 8.607 16.113 34.082 0.080 9.198\n",
      "29.775 129.004 12.516 7090.820 0.640 0.182 0.019 0.009 0.825 439.746 0.017 8.607 16.113 38.379 0.082 9.198\n",
      "29.775 129.004 12.516 7090.820 0.640 0.182 0.019 0.009 0.825 439.746 0.017 8.607 16.113 38.379 0.080 3.919\n",
      "74.775 203.418 21.827 7530.273 0.761 0.114 0.191 0.006 0.854 4545.410 0.008 24.549 5.957 34.082 0.082 3.919\n"
     ]
    }
   ],
   "source": [
    "print(sample.shape)\n",
    "for j in range(18):\n",
    "    print(' '.join(['{:.3f}'.format(i) for i in sample[j]]))"
   ]
  },
  {
   "cell_type": "markdown",
   "metadata": {
    "slideshow": {
     "slide_type": "subslide"
    }
   },
   "source": [
    "The results show that the most important parameters are:\n",
    "* Capital cost of the V2G equipment\n",
    "* Ratio of dispatch to contract\n",
    "* Battery size\n",
    "* Economic lifetime\n",
    "* Purchased energy cost\n",
    "\n",
    "Other comments:\n",
    "* __Lifetime cycles__ has a reasonably important first order effect so we can include that too.\n",
    "* __Battery size__ has much more important interaction effects than first-order effects\n",
    "* Same for __Purchased_energy_cost__\n",
    "\n",
    "We can now fix the other parameters and revisit our slider model to perform some analysis."
   ]
  },
  {
   "cell_type": "code",
   "execution_count": 37,
   "metadata": {
    "collapsed": false,
    "slideshow": {
     "slide_type": "skip"
    }
   },
   "outputs": [
    {
     "name": "stdout",
     "output_type": "stream",
     "text": [
      "Profit £336.91 = £735.84 - £398.93\n"
     ]
    }
   ],
   "source": [
    "@interact(battery_size=widgets.FloatSlider(value=70, min=10, max=100, step=5), \n",
    "          purchased_energy_cost=widgets.FloatSlider(value=0.1, min=0.01, max=0.5, step=0.01),\n",
    "          cost_of_v2g_equip=widgets.FloatSlider(value=2000, min=100, max=5000, step=100),\n",
    "          economic_lifetime=widgets.FloatSlider(value=10, min=3, max=25, step=1),\n",
    "          ratio_dispatch_to_contract=widgets.FloatSlider(value=0.10, min=0.01, max=0.50, step=0.01),\n",
    "         lifetime_cycles=widgets.FloatSlider(value=2000, min=1000, max=10000, step=500))\n",
    "def plot_profit(battery_size,\n",
    "                purchased_energy_cost,\n",
    "                cost_of_v2g_equip,\n",
    "                economic_lifetime,\n",
    "                ratio_dispatch_to_contract,\n",
    "                lifetime_cycles):\n",
    "    profit, revenue, cost = compute_profit( lifetime_cycles=lifetime_cycles,\n",
    "                                            battery_size=battery_size,\n",
    "                                            purchased_energy_cost=purchased_energy_cost,\n",
    "                                            cost_of_v2g_equip=cost_of_v2g_equip,\n",
    "                                            economic_lifetime=economic_lifetime,\n",
    "                                            ratio_dispatch_to_contract=ratio_dispatch_to_contract\n",
    "                                            )\n",
    "    return print(\"Profit £{} = £{} - £{}\".format(np.round(profit,2), np.round(revenue, 2), np.round(cost,2) ))"
   ]
  },
  {
   "cell_type": "markdown",
   "metadata": {
    "slideshow": {
     "slide_type": "slide"
    }
   },
   "source": [
    "# Summary\n",
    "\n",
    "\n",
    "Sensitivity analysis helps you:\n",
    "* Think through your assumptions\n",
    "* Quantify uncertainty\n",
    "* Focus on the most influential uncertainties first\n",
    "* Learn [Python](https://www.python.org)\n",
    "\n",
    "Similar packages to [SALib]() for other languages/programmes:\n",
    "* [Matlab Toolbox **SAFE** for GSA](http://www.sciencedirect.com/science/article/pii/S1364815215001188)\n",
    "* [`sensitivity` package for R](https://cran.r-project.org/web/packages/sensitivity/index.html)\n",
    "* [Excel](http://crossfitjerseycity.org/wp-content/uploads/2015/01/keep-calm-and-good-luck-graphic1.png)"
   ]
  },
  {
   "cell_type": "code",
   "execution_count": 45,
   "metadata": {
    "collapsed": false
   },
   "outputs": [
    {
     "name": "stdout",
     "output_type": "stream",
     "text": [
      "for 1 dimension, 0.2 is within 10% of the edge\n"
     ]
    }
   ],
   "source": [
    "print('for {} dimension, {} is within 10% of the edge'.format(1,0.2))"
   ]
  },
  {
   "cell_type": "code",
   "execution_count": 49,
   "metadata": {
    "collapsed": false
   },
   "outputs": [
    {
     "name": "stdout",
     "output_type": "stream",
     "text": [
      "for 0 dimension, 0.00 is within 10% of the edge\n",
      "for 1 dimension, 0.20 is within 10% of the edge\n",
      "for 2 dimension, 0.36 is within 10% of the edge\n",
      "for 3 dimension, 0.49 is within 10% of the edge\n",
      "for 4 dimension, 0.59 is within 10% of the edge\n",
      "for 5 dimension, 0.67 is within 10% of the edge\n",
      "for 6 dimension, 0.74 is within 10% of the edge\n",
      "for 7 dimension, 0.79 is within 10% of the edge\n",
      "for 8 dimension, 0.83 is within 10% of the edge\n",
      "for 9 dimension, 0.87 is within 10% of the edge\n",
      "for 10 dimension, 0.89 is within 10% of the edge\n",
      "for 11 dimension, 0.91 is within 10% of the edge\n",
      "for 12 dimension, 0.93 is within 10% of the edge\n",
      "for 13 dimension, 0.95 is within 10% of the edge\n",
      "for 14 dimension, 0.96 is within 10% of the edge\n",
      "for 15 dimension, 0.96 is within 10% of the edge\n",
      "for 16 dimension, 0.97 is within 10% of the edge\n",
      "for 17 dimension, 0.98 is within 10% of the edge\n",
      "for 18 dimension, 0.98 is within 10% of the edge\n",
      "for 19 dimension, 0.99 is within 10% of the edge\n",
      "for 20 dimension, 0.99 is within 10% of the edge\n",
      "for 21 dimension, 0.99 is within 10% of the edge\n",
      "for 22 dimension, 0.99 is within 10% of the edge\n",
      "for 23 dimension, 0.99 is within 10% of the edge\n",
      "for 24 dimension, 1.00 is within 10% of the edge\n",
      "for 25 dimension, 1.00 is within 10% of the edge\n",
      "for 26 dimension, 1.00 is within 10% of the edge\n",
      "for 27 dimension, 1.00 is within 10% of the edge\n",
      "for 28 dimension, 1.00 is within 10% of the edge\n",
      "for 29 dimension, 1.00 is within 10% of the edge\n",
      "for 30 dimension, 1.00 is within 10% of the edge\n",
      "for 31 dimension, 1.00 is within 10% of the edge\n",
      "for 32 dimension, 1.00 is within 10% of the edge\n",
      "for 33 dimension, 1.00 is within 10% of the edge\n",
      "for 34 dimension, 1.00 is within 10% of the edge\n",
      "for 35 dimension, 1.00 is within 10% of the edge\n",
      "for 36 dimension, 1.00 is within 10% of the edge\n",
      "for 37 dimension, 1.00 is within 10% of the edge\n",
      "for 38 dimension, 1.00 is within 10% of the edge\n",
      "for 39 dimension, 1.00 is within 10% of the edge\n",
      "for 40 dimension, 1.00 is within 10% of the edge\n",
      "for 41 dimension, 1.00 is within 10% of the edge\n",
      "for 42 dimension, 1.00 is within 10% of the edge\n",
      "for 43 dimension, 1.00 is within 10% of the edge\n",
      "for 44 dimension, 1.00 is within 10% of the edge\n",
      "for 45 dimension, 1.00 is within 10% of the edge\n",
      "for 46 dimension, 1.00 is within 10% of the edge\n",
      "for 47 dimension, 1.00 is within 10% of the edge\n",
      "for 48 dimension, 1.00 is within 10% of the edge\n",
      "for 49 dimension, 1.00 is within 10% of the edge\n",
      "for 50 dimension, 1.00 is within 10% of the edge\n",
      "for 51 dimension, 1.00 is within 10% of the edge\n",
      "for 52 dimension, 1.00 is within 10% of the edge\n",
      "for 53 dimension, 1.00 is within 10% of the edge\n",
      "for 54 dimension, 1.00 is within 10% of the edge\n",
      "for 55 dimension, 1.00 is within 10% of the edge\n",
      "for 56 dimension, 1.00 is within 10% of the edge\n",
      "for 57 dimension, 1.00 is within 10% of the edge\n",
      "for 58 dimension, 1.00 is within 10% of the edge\n",
      "for 59 dimension, 1.00 is within 10% of the edge\n",
      "for 60 dimension, 1.00 is within 10% of the edge\n",
      "for 61 dimension, 1.00 is within 10% of the edge\n",
      "for 62 dimension, 1.00 is within 10% of the edge\n",
      "for 63 dimension, 1.00 is within 10% of the edge\n",
      "for 64 dimension, 1.00 is within 10% of the edge\n",
      "for 65 dimension, 1.00 is within 10% of the edge\n",
      "for 66 dimension, 1.00 is within 10% of the edge\n",
      "for 67 dimension, 1.00 is within 10% of the edge\n",
      "for 68 dimension, 1.00 is within 10% of the edge\n",
      "for 69 dimension, 1.00 is within 10% of the edge\n",
      "for 70 dimension, 1.00 is within 10% of the edge\n",
      "for 71 dimension, 1.00 is within 10% of the edge\n",
      "for 72 dimension, 1.00 is within 10% of the edge\n",
      "for 73 dimension, 1.00 is within 10% of the edge\n",
      "for 74 dimension, 1.00 is within 10% of the edge\n",
      "for 75 dimension, 1.00 is within 10% of the edge\n",
      "for 76 dimension, 1.00 is within 10% of the edge\n",
      "for 77 dimension, 1.00 is within 10% of the edge\n",
      "for 78 dimension, 1.00 is within 10% of the edge\n",
      "for 79 dimension, 1.00 is within 10% of the edge\n",
      "for 80 dimension, 1.00 is within 10% of the edge\n",
      "for 81 dimension, 1.00 is within 10% of the edge\n",
      "for 82 dimension, 1.00 is within 10% of the edge\n",
      "for 83 dimension, 1.00 is within 10% of the edge\n",
      "for 84 dimension, 1.00 is within 10% of the edge\n",
      "for 85 dimension, 1.00 is within 10% of the edge\n",
      "for 86 dimension, 1.00 is within 10% of the edge\n",
      "for 87 dimension, 1.00 is within 10% of the edge\n",
      "for 88 dimension, 1.00 is within 10% of the edge\n",
      "for 89 dimension, 1.00 is within 10% of the edge\n",
      "for 90 dimension, 1.00 is within 10% of the edge\n",
      "for 91 dimension, 1.00 is within 10% of the edge\n",
      "for 92 dimension, 1.00 is within 10% of the edge\n",
      "for 93 dimension, 1.00 is within 10% of the edge\n",
      "for 94 dimension, 1.00 is within 10% of the edge\n",
      "for 95 dimension, 1.00 is within 10% of the edge\n",
      "for 96 dimension, 1.00 is within 10% of the edge\n",
      "for 97 dimension, 1.00 is within 10% of the edge\n",
      "for 98 dimension, 1.00 is within 10% of the edge\n",
      "for 99 dimension, 1.00 is within 10% of the edge\n"
     ]
    }
   ],
   "source": [
    "for i in range(100):\n",
    "    \n",
    "    f = 1.-(0.8 **i)\n",
    "    print('for {} dimension, {:.2f} is within 10% of the edge'.format(i,f))"
   ]
  },
  {
   "cell_type": "code",
   "execution_count": null,
   "metadata": {
    "collapsed": true
   },
   "outputs": [],
   "source": []
  }
 ],
 "metadata": {
  "anaconda-cloud": {},
  "kernelspec": {
   "display_name": "Python [conda env:py3]",
   "language": "python",
   "name": "conda-env-py3-py"
  },
  "language_info": {
   "codemirror_mode": {
    "name": "ipython",
    "version": 3
   },
   "file_extension": ".py",
   "mimetype": "text/x-python",
   "name": "python",
   "nbconvert_exporter": "python",
   "pygments_lexer": "ipython3",
   "version": "3.5.2"
  },
  "widgets": {
   "state": {
    "806fff14f13f46c89fb534ea84240eba": {
     "views": [
      {
       "cell_index": 40
      }
     ]
    },
    "e291aedeb66b4368a2a36ea4e75117d5": {
     "views": [
      {
       "cell_index": 16
      }
     ]
    },
    "e65889ed35cf49e4a9a5338313c2d73a": {
     "views": [
      {
       "cell_index": 35
      }
     ]
    }
   },
   "version": "1.2.0"
  }
 },
 "nbformat": 4,
 "nbformat_minor": 0
}
